{
  "nbformat": 4,
  "nbformat_minor": 0,
  "metadata": {
    "colab": {
      "provenance": []
    },
    "kernelspec": {
      "name": "python3",
      "display_name": "Python 3"
    },
    "language_info": {
      "name": "python"
    }
  },
  "cells": [
    {
      "cell_type": "markdown",
      "source": [
        "### Regular Expression Assignment by Ganiyat Ogunbambo"
      ],
      "metadata": {
        "id": "QqCco772yJ6X"
      }
    },
    {
      "cell_type": "markdown",
      "source": [
        "Question 1- Write a Python program to replace all occurrences of a space, comma, or dot with a colon.\n",
        "Sample Text- 'Python Exercises, PHP exercises.'\n",
        "Expected Output: Python:Exercises::PHP:exercises:\n"
      ],
      "metadata": {
        "id": "KTDE7Cu7yNg0"
      }
    },
    {
      "cell_type": "code",
      "source": [
        "import re\n",
        "text = 'Python Exercises, PHP exercises.'\n",
        "def_pattern = r'[ ,.]'\n",
        "result = re.sub(def_pattern, ':', text)\n",
        "\n"
      ],
      "metadata": {
        "id": "8RZK4eOfy6tS"
      },
      "execution_count": null,
      "outputs": []
    },
    {
      "cell_type": "code",
      "source": [
        "result"
      ],
      "metadata": {
        "colab": {
          "base_uri": "https://localhost:8080/",
          "height": 36
        },
        "id": "wPYioI0U0bhi",
        "outputId": "e5107bd4-69b2-4c4d-a55f-cd6511dedf93"
      },
      "execution_count": null,
      "outputs": [
        {
          "output_type": "execute_result",
          "data": {
            "text/plain": [
              "'Python:Exercises::PHP:exercises:'"
            ],
            "application/vnd.google.colaboratory.intrinsic+json": {
              "type": "string"
            }
          },
          "metadata": {},
          "execution_count": 2
        }
      ]
    },
    {
      "cell_type": "code",
      "source": [
        "#alternatively, to allow input of any string\n",
        "input_string = input('enter a string: ')\n",
        "pattern = r'[ ,.]'\n",
        "new_string = re.sub(pattern, ':', input_string)\n",
        "print(new_string)"
      ],
      "metadata": {
        "colab": {
          "base_uri": "https://localhost:8080/"
        },
        "id": "3qR-Yn5z0wZl",
        "outputId": "261f322f-2d81-4a88-e715-3026c130d0a9"
      },
      "execution_count": null,
      "outputs": [
        {
          "output_type": "stream",
          "name": "stdout",
          "text": [
            "enter a string: Python Exercises, PHP exercises.\n",
            "Python:Exercises::PHP:exercises:\n"
          ]
        }
      ]
    },
    {
      "cell_type": "markdown",
      "source": [
        "Question 2-  Write a Python program to find all words starting with 'a' or 'e' in a given string."
      ],
      "metadata": {
        "id": "0x0tXrzq1u6j"
      }
    },
    {
      "cell_type": "code",
      "source": [
        "given_string = input('enter any string: ')\n",
        "pattern = r'\\b[ae]\\w+\\b'   #to include uppercase latters A,E in the search r'\\b[aeAE]\\w+\\b'  can be used for the search pattern\n",
        "find_all = re.findall(pattern,given_string)\n",
        "print(find_all)"
      ],
      "metadata": {
        "colab": {
          "base_uri": "https://localhost:8080/"
        },
        "id": "p1fC0fJZ12an",
        "outputId": "ceb6d81f-7157-4b13-bf80-563ca1b70263"
      },
      "execution_count": null,
      "outputs": [
        {
          "output_type": "stream",
          "name": "stdout",
          "text": [
            "enter any string: Python Exercises, PHP exercises.\n",
            "['exercises']\n"
          ]
        }
      ]
    },
    {
      "cell_type": "markdown",
      "source": [
        "Question 3- Create a function in python to find all words that are at least 4 characters long in a string. The use of the re.compile() method is mandatory."
      ],
      "metadata": {
        "id": "zKYcFmOl4gFh"
      }
    },
    {
      "cell_type": "code",
      "source": [
        "import re\n",
        "def four_xter_long(input_string):\n",
        "  pattern = re.compile(r'\\b\\w{4,}\\b')\n",
        "  more_words = pattern.findall(input_string)\n",
        "  return more_words\n",
        "\n",
        "\n",
        "input_string = input('enter any string: ')\n",
        "result = four_xter_long(input_string)\n",
        "print(result)"
      ],
      "metadata": {
        "colab": {
          "base_uri": "https://localhost:8080/"
        },
        "id": "YdPeM7EX6cgI",
        "outputId": "9903a45d-300d-487a-e319-836885575934"
      },
      "execution_count": null,
      "outputs": [
        {
          "output_type": "stream",
          "name": "stdout",
          "text": [
            "enter any string: sep:   string inserted between values, default a space. end:  \n",
            "['string', 'inserted', 'between', 'values', 'default', 'space']\n"
          ]
        }
      ]
    },
    {
      "cell_type": "markdown",
      "source": [
        "Question 4- Create a function in python to find all three, four, and five character words in a string. The use of the re.compile() method is mandatory."
      ],
      "metadata": {
        "id": "EE-MIKGp7yQt"
      }
    },
    {
      "cell_type": "code",
      "source": [
        "import re\n",
        "def more_than_three(string):\n",
        "  pattern = re.compile(r'\\b\\w{3,5}\\b')\n",
        "  patterned_words = pattern.findall(string)\n",
        "  return patterned_words\n",
        "\n",
        "\n",
        "string = input('enter a string of words: ')\n",
        "result = more_than_three(string)\n",
        "print(result)"
      ],
      "metadata": {
        "colab": {
          "base_uri": "https://localhost:8080/"
        },
        "id": "h7x0RZlc7IS7",
        "outputId": "c5247e7c-73a7-4c60-9058-866255b40560"
      },
      "execution_count": null,
      "outputs": [
        {
          "output_type": "stream",
          "name": "stdout",
          "text": [
            "enter a string of words: enter any string: sep:   string inserted between values, default a space. end: \n",
            "['enter', 'any', 'sep', 'space', 'end']\n"
          ]
        }
      ]
    },
    {
      "cell_type": "markdown",
      "source": [
        "Question 5- Create a function in Python to remove the parenthesis in a list of strings. The use of the re.compile() method is mandatory."
      ],
      "metadata": {
        "id": "H4OSCi888rjn"
      }
    },
    {
      "cell_type": "code",
      "source": [
        "import re\n",
        "def remove_par(strings):\n",
        "  pattern = re.compile(r'\\(|\\)')\n",
        "  removed_words = re.sub(pattern, ' ', strings)\n",
        "  return removed_words\n",
        "\n",
        "\n",
        "strings = input('enter a list of string: ')\n",
        "result = remove_par(strings)\n",
        "print(result)"
      ],
      "metadata": {
        "colab": {
          "base_uri": "https://localhost:8080/"
        },
        "id": "mb_2awY_8wSA",
        "outputId": "f37e43cf-7235-4623-8556-c26672e530f3"
      },
      "execution_count": null,
      "outputs": [
        {
          "output_type": "stream",
          "name": "stdout",
          "text": [
            "enter a list of string: \"example (.com)\", \"hr@fliprobo (.com)\", \"github (.com)\", \"Hello (Data Science World)\", \"Data (Scientist)\"\n",
            "\"example  .com \", \"hr@fliprobo  .com \", \"github  .com \", \"Hello  Data Science World \", \"Data  Scientist \"\n"
          ]
        }
      ]
    },
    {
      "cell_type": "markdown",
      "source": [
        "Question 6- Write a python program to remove the parenthesis area from the text stored in the text file using Regular Expression."
      ],
      "metadata": {
        "id": "xsgns_uu3nfc"
      }
    },
    {
      "cell_type": "code",
      "source": [
        "import re\n",
        "\n",
        "input_file_path = 'input.txt'\n",
        "output_file_path = 'output.txt'\n",
        "\n",
        "#input_file_path is the path to the text file\n",
        "with open(input_file_path, 'r') as f:\n",
        "  content = f.read()\n",
        "pattern = r'\\([^)]*\\)'\n",
        "modified_text = re.sub(pattern, ' ', content)\n",
        "\n",
        "with open(output_file_path, 'w') as file:\n",
        "  file.write(modified_text)\n",
        "\n",
        "print(output_file_path)\n",
        "\n"
      ],
      "metadata": {
        "id": "MEsCyIeAzzoc"
      },
      "execution_count": null,
      "outputs": []
    },
    {
      "cell_type": "markdown",
      "source": [
        "\n",
        "Question 7- Write a regular expression in Python to split a string into uppercase letters.\n",
        "\n"
      ],
      "metadata": {
        "id": "KBiiMii227Qg"
      }
    },
    {
      "cell_type": "code",
      "source": [
        "import re\n",
        "\n",
        "pattern = r'(?=[A-Z])'\n",
        "text = input('enter a sentence string: ')\n",
        "\n",
        "splitted_text = [x for x in re.split(pattern, text) if x]\n",
        "print(splitted_text)\n"
      ],
      "metadata": {
        "colab": {
          "base_uri": "https://localhost:8080/"
        },
        "id": "H5kR2rkF7MFS",
        "outputId": "4e7b38e2-57fd-442e-a0b5-c4c8dc18c252"
      },
      "execution_count": null,
      "outputs": [
        {
          "output_type": "stream",
          "name": "stdout",
          "text": [
            "enter a sentence string: WriteARegularExpressionInPythonToSplitaStringIntoUppercaseLetters\n",
            "['Write', 'A', 'Regular', 'Expression', 'In', 'Python', 'To', 'Splita', 'String', 'Into', 'Uppercase', 'Letters']\n"
          ]
        }
      ]
    },
    {
      "cell_type": "markdown",
      "source": [
        "Question 8- Create a function in python to insert spaces between words starting with numbers."
      ],
      "metadata": {
        "id": "ANUvvx5BDh6b"
      }
    },
    {
      "cell_type": "code",
      "source": [
        "import re\n",
        "def insert_space(text):\n",
        "  pattern = r'(?<=\\w)(\\d)'\n",
        "  return re.sub(pattern, r' \\1', text)\n",
        "\n",
        "#print(insert_space('takes2to1angle'))"
      ],
      "metadata": {
        "colab": {
          "base_uri": "https://localhost:8080/"
        },
        "id": "IqeoEqlpDpcB",
        "outputId": "49718808-374e-49d1-e50d-12e676db66c9"
      },
      "execution_count": null,
      "outputs": [
        {
          "output_type": "stream",
          "name": "stdout",
          "text": [
            "takes 2to 1angle\n"
          ]
        }
      ]
    },
    {
      "cell_type": "code",
      "source": [
        "insert_space('RegularExpression1IsAn2ImportantTopic3InPython' )"
      ],
      "metadata": {
        "colab": {
          "base_uri": "https://localhost:8080/",
          "height": 36
        },
        "id": "QKdbl3xIFg9x",
        "outputId": "3fa1f1eb-28c2-496c-b910-80b0b38d87d7"
      },
      "execution_count": null,
      "outputs": [
        {
          "output_type": "execute_result",
          "data": {
            "text/plain": [
              "'RegularExpression 1IsAn 2ImportantTopic 3InPython'"
            ],
            "application/vnd.google.colaboratory.intrinsic+json": {
              "type": "string"
            }
          },
          "metadata": {},
          "execution_count": 23
        }
      ]
    },
    {
      "cell_type": "markdown",
      "source": [
        "Question 9- Create a function in python to insert spaces between words starting with capital letters or with numbers."
      ],
      "metadata": {
        "id": "xzX4kstCLBtj"
      }
    },
    {
      "cell_type": "code",
      "source": [
        "import re\n",
        "def insert_spaces(text):\n",
        "  pattern = r'([a-zA-Z0-9])([A-Z0-9])'\n",
        "  return re.sub(pattern, r'\\1 \\2', text)"
      ],
      "metadata": {
        "id": "3A0GJ0ibLKCA"
      },
      "execution_count": null,
      "outputs": []
    },
    {
      "cell_type": "code",
      "source": [
        "insert_spaces('RegularExpression1IsAn2ImportantTopic3InPython' )"
      ],
      "metadata": {
        "colab": {
          "base_uri": "https://localhost:8080/",
          "height": 36
        },
        "id": "7zGqWH7-L-sM",
        "outputId": "2af56282-a982-4046-c149-fc7982fdfde7"
      },
      "execution_count": null,
      "outputs": [
        {
          "output_type": "execute_result",
          "data": {
            "text/plain": [
              "'Regular Expression 1Is An 2Important Topic 3In Python'"
            ],
            "application/vnd.google.colaboratory.intrinsic+json": {
              "type": "string"
            }
          },
          "metadata": {},
          "execution_count": 42
        }
      ]
    },
    {
      "cell_type": "markdown",
      "source": [
        "Question 10- Write a python program to extract email address from the text stored in the text file using Regular Expression."
      ],
      "metadata": {
        "id": "_wxWKZvVLB9Q"
      }
    },
    {
      "cell_type": "code",
      "source": [
        "import re\n",
        "def extract_emails(filename):\n",
        "\n",
        "  with open(filename, 'r' ) as f:\n",
        "    text = f.read()\n",
        "  pattern = r'\\b[A-Za-z0-9._%+-]+@[A-Za-z0-9.-]+\\.[A-Z|a-z]{2,}\\b'\n",
        "  emails = re.findall( pattern,text)\n",
        "  return emails"
      ],
      "metadata": {
        "id": "jANeBKWTFroF"
      },
      "execution_count": null,
      "outputs": []
    },
    {
      "cell_type": "code",
      "source": [
        "# text = input('enter a string: ')\n",
        "# '''Hello my name is Data Science and my email address is xyz@domain.com and alternate email address is xyz.abc@sdomain.domain.com.\n",
        "# Please contact us at hr@fliprobo.com for further information.\n",
        "# '''\n",
        "# pattern = r'\\b[A-Za-z0-9._%+-]+@[A-Za-z0-9.-]+\\.[A-Z|a-z]{2,}\\b'\n",
        "# extract = re.findall(pattern,text)\n",
        "# print(extract)"
      ],
      "metadata": {
        "id": "K-0tvk8tVCQE"
      },
      "execution_count": null,
      "outputs": []
    },
    {
      "cell_type": "markdown",
      "source": [
        "Question 11- Write a Python program to match a string that contains only upper and lowercase letters, numbers, and underscores."
      ],
      "metadata": {
        "id": "26QeFvo3Vonl"
      }
    },
    {
      "cell_type": "code",
      "source": [
        "import re\n",
        "def match_string(string):\n",
        "  pattern = r'^[a-zA-Z0-9_]+$'\n",
        "  if re.fullmatch(pattern,string):\n",
        "    return True\n",
        "  else:\n",
        "    return False"
      ],
      "metadata": {
        "id": "sgBF1nMwVm43"
      },
      "execution_count": null,
      "outputs": []
    },
    {
      "cell_type": "markdown",
      "source": [
        "Question 12- Write a Python program where a string will start with a specific number."
      ],
      "metadata": {
        "id": "4AD-mrBBYS4O"
      }
    },
    {
      "cell_type": "code",
      "source": [
        "def string_with_number(string,number):\n",
        "  pattern = f'^{number}'\n",
        "  if re.match(pattern,string):\n",
        "    return True\n",
        "  else:\n",
        "    return False\n",
        "\n",
        "#print(string_with_number(string,number))"
      ],
      "metadata": {
        "id": "2KaP44bWYXUg"
      },
      "execution_count": null,
      "outputs": []
    },
    {
      "cell_type": "markdown",
      "source": [
        "Question 13- Write a Python program to remove leading zeros from an IP address"
      ],
      "metadata": {
        "id": "Ajy-Fxq_xYK8"
      }
    },
    {
      "cell_type": "code",
      "source": [
        "def remove_zeros(ip_address):\n",
        "  splitted_add = ip_address.split('.')\n",
        "  new_ip = '.'.join(str(int(parts)) for parts in splitted_add)\n",
        "\n",
        "  return new_ip\n",
        "\n",
        "#print(remove_zeros(\"192.168.001.010\"))"
      ],
      "metadata": {
        "colab": {
          "base_uri": "https://localhost:8080/"
        },
        "id": "tHBD2iZAxTkk",
        "outputId": "f37885d6-b7e0-47a0-876b-5c41f10effa6"
      },
      "execution_count": null,
      "outputs": [
        {
          "output_type": "stream",
          "name": "stdout",
          "text": [
            "192.168.1.10\n"
          ]
        }
      ]
    },
    {
      "cell_type": "markdown",
      "source": [
        "Question 14- Write a regular expression in python to match a date string in the form of Month name followed by day number and year stored in a text file."
      ],
      "metadata": {
        "id": "oQAyDh8nKQ9P"
      }
    },
    {
      "cell_type": "code",
      "source": [
        "import re\n",
        "def extract_dates(filename):\n",
        "  with open(filename, 'r') as file:\n",
        "    text = file.read()\n",
        "\n",
        "  pattern = r'\\b(?:January|February|March|April|May|June|July|August|September|October|November|December) [0-3]?[0-9] (?:st|nd|rd|th)? \\d{4}\\b'\n",
        "  dates = re.findall(pattern, text)\n",
        "\n",
        "  return dates\n",
        "\n",
        "#extract_dates('regular.txt')"
      ],
      "metadata": {
        "id": "eb_HXQ-WJyaS"
      },
      "execution_count": null,
      "outputs": []
    },
    {
      "cell_type": "markdown",
      "source": [
        "Question 15- Write a Python program to search some literals strings in a string.\n"
      ],
      "metadata": {
        "id": "OIkyJAveNvmI"
      }
    },
    {
      "cell_type": "code",
      "source": [
        "def search_and_find_locations(original_text, search_words):\n",
        "  for word in search_words:\n",
        "    if word in original_text:\n",
        "      print (f'The word \"{word}\" was found in the original text')\n",
        "\n",
        "    else:\n",
        "      print (f'The word \"{word}\" was not found in the original text ')\n"
      ],
      "metadata": {
        "id": "CgO_89yicGbe"
      },
      "execution_count": null,
      "outputs": []
    },
    {
      "cell_type": "code",
      "source": [
        "# Sample text\n",
        "original_text = 'The quick brown fox jumps over the lazy dog.'\n",
        "\n",
        "# Searched words\n",
        "search_words = ['fox', 'dog', 'horse']\n",
        "\n",
        "# Call the function\n",
        "search_and_find_locations(original_text, search_words)"
      ],
      "metadata": {
        "colab": {
          "base_uri": "https://localhost:8080/"
        },
        "id": "SZRMBCSoPfOF",
        "outputId": "f2f2e7a0-2580-4e6c-fd2e-28597cc07cdb"
      },
      "execution_count": null,
      "outputs": [
        {
          "output_type": "stream",
          "name": "stdout",
          "text": [
            "The word \"fox\" was found in the original text\n",
            "The word \"dog\" was found in the original text\n",
            "The word \"horse\" was not found in the original text \n"
          ]
        }
      ]
    },
    {
      "cell_type": "markdown",
      "source": [
        "Question 16- Write a Python program to search a literals string in a string and also find the location within the original string where the pattern occurs"
      ],
      "metadata": {
        "id": "kMULtsn2Mtc0"
      }
    },
    {
      "cell_type": "code",
      "source": [
        "def search_and_find(text,search_word):\n",
        "  index = text.find(search_word)\n",
        "\n",
        "  if index != -1:\n",
        "    print(f'\"{search_word}\" was found at the start of index {index}')\n",
        "  else:\n",
        "    print(f'\"{search_word}\" not found')\n",
        "\n",
        "search_and_find('The quick brown fox jumps over the lazy dog.', 'fox')\n"
      ],
      "metadata": {
        "colab": {
          "base_uri": "https://localhost:8080/"
        },
        "id": "ix-jhOoSJZtx",
        "outputId": "cccec263-f82c-4219-d612-7e1f2a65abbd"
      },
      "execution_count": null,
      "outputs": [
        {
          "output_type": "stream",
          "name": "stdout",
          "text": [
            "\"fox\" was found at the start of index 16\n"
          ]
        }
      ]
    },
    {
      "cell_type": "markdown",
      "source": [
        "Question 17- Write a Python program to find the substrings within a string."
      ],
      "metadata": {
        "id": "ErkPWsyeRP6j"
      }
    },
    {
      "cell_type": "code",
      "source": [
        "def find_substrings(original_text,pattern):\n",
        "  index = 0\n",
        "  occurences = 0\n",
        "  while index !=-1:\n",
        "    index = original_text.find(pattern, index)\n",
        "\n",
        "    if index != -1:\n",
        "      #print(f'\"{pattern}\" was found at index \"{index}\"')\n",
        "      index += len(pattern)\n",
        "      occurences +=1\n",
        "\n",
        "  print(f'The pattern \"{pattern}\" occurs \"{occurences}\" times')"
      ],
      "metadata": {
        "id": "P2kGApVcNtjU"
      },
      "execution_count": 17,
      "outputs": []
    },
    {
      "cell_type": "code",
      "source": [
        "original_text= 'mr piper picked a peck of little pepper, if mr piper picked, what is the puiper p'\n",
        "pattern = 'piper'\n",
        "find_substrings(original_text,pattern)\n"
      ],
      "metadata": {
        "colab": {
          "base_uri": "https://localhost:8080/"
        },
        "id": "uk3MmKSVTzV5",
        "outputId": "0d5fa40a-814e-473b-89a9-789f6a957db2"
      },
      "execution_count": 20,
      "outputs": [
        {
          "output_type": "stream",
          "name": "stdout",
          "text": [
            "The pattern \"piper\" occurs \"2\" times\n"
          ]
        }
      ]
    },
    {
      "cell_type": "markdown",
      "source": [
        "Question 18- Write a Python program to find the occurrence and position of the substrings within a string."
      ],
      "metadata": {
        "id": "a_JpGKqRTpHr"
      }
    },
    {
      "cell_type": "code",
      "source": [
        "def find_substrings(original_text,pattern):\n",
        "  occurence = 0\n",
        "  position = []\n",
        "  index = 0\n",
        "\n",
        "  while index != -1:\n",
        "    index = original_text.find(pattern,index)\n",
        "\n",
        "    if index != -1:\n",
        "\n",
        "      occurence +=1\n",
        "      position.append(index)\n",
        "      index += len(pattern)\n",
        "\n",
        "  return occurence, position\n",
        "\n"
      ],
      "metadata": {
        "id": "FH_ZySghUgaU"
      },
      "execution_count": 6,
      "outputs": []
    },
    {
      "cell_type": "code",
      "source": [
        "original_text = 'Python exercises, PHP exercises, C# exercises'\n",
        "\n",
        "# Pattern to search for\n",
        "pattern = 'exercises'\n",
        "find_substrings(original_text,pattern)\n",
        "\n",
        "occurence,position = find_substrings(original_text,pattern)\n",
        "\n",
        "print(f'The pattern \"{pattern}\" occurs \"{occurence}\" times')"
      ],
      "metadata": {
        "colab": {
          "base_uri": "https://localhost:8080/"
        },
        "id": "D_E6Ki_SVh8u",
        "outputId": "e7391831-f43c-40f3-a657-0cb8e6ac43c5"
      },
      "execution_count": 10,
      "outputs": [
        {
          "output_type": "stream",
          "name": "stdout",
          "text": [
            "The pattern \"exercises\" occurs \"3\" times\n"
          ]
        }
      ]
    },
    {
      "cell_type": "markdown",
      "source": [
        "Question 19- Write a Python program to convert a date of yyyy-mm-dd format to dd-mm-yyyy format."
      ],
      "metadata": {
        "id": "pAzxQsCkbo8d"
      }
    },
    {
      "cell_type": "code",
      "source": [
        "from datetime import datetime\n",
        "\n",
        "def convert_date(date_str):\n",
        "  date_obj = datetime.strptime(date_str, '%Y-%m-%d')\n",
        "  converted_date = datetime.strftime(date_obj, '%d-%m-%Y')\n",
        "\n",
        "  return converted_date\n",
        "date_str = \"2023-08-30\"\n",
        "converted_date = convert_date(date_str)\n",
        "print(f'The original date \"{date_str}\" is converted to \"{converted_date}\"')"
      ],
      "metadata": {
        "colab": {
          "base_uri": "https://localhost:8080/"
        },
        "id": "HlmOD7SQcCxR",
        "outputId": "70c841ec-e493-42b6-cdea-2ebe3dd3595b"
      },
      "execution_count": 28,
      "outputs": [
        {
          "output_type": "stream",
          "name": "stdout",
          "text": [
            "The original date \"2023-08-30\" is converted to \"30-08-2023\"\n"
          ]
        }
      ]
    },
    {
      "cell_type": "markdown",
      "source": [
        "Question 20- Create a function in python to find all decimal numbers with a precision of 1 or 2 in a string. The use of the re.compile() method is mandatory.\n",
        "Sample Text: \"01.12 0132.123 2.31875 145.8 3.01 27.25 0.25\"\n",
        "Expected Output: ['01.12', '145.8', '3.01', '27.25', '0.25']\n"
      ],
      "metadata": {
        "id": "NlgPAww0fRL2"
      }
    },
    {
      "cell_type": "code",
      "source": [
        "import re\n",
        "\n",
        "def find_decimals(text):\n",
        "  pattern = re.compile(r'\\b\\d+\\.\\d{1,2}\\b')\n",
        "  decimals = pattern.findall(text)\n",
        "\n",
        "  return decimals\n",
        "\n",
        "text = \"01.12 0132.123 2.31875 145.8 3.01 27.25 0.25\"\n",
        "result = find_decimals(text)\n",
        "print(\"Decimals with 1 and 2: \", result)\n",
        "\n"
      ],
      "metadata": {
        "colab": {
          "base_uri": "https://localhost:8080/"
        },
        "id": "4MT2pjOhfYUM",
        "outputId": "fdb9a8e5-d285-404f-9b65-51b89aeecf60"
      },
      "execution_count": 30,
      "outputs": [
        {
          "output_type": "stream",
          "name": "stdout",
          "text": [
            "Decimals with 1 and 2:  ['01.12', '145.8', '3.01', '27.25', '0.25']\n"
          ]
        }
      ]
    },
    {
      "cell_type": "markdown",
      "source": [
        "Question 21- Write a Python program to separate and print the numbers and their position of a given string."
      ],
      "metadata": {
        "id": "C2sywJc-gwtI"
      }
    },
    {
      "cell_type": "code",
      "source": [
        "def find_numb_position(text):\n",
        "  pattern =re.compile(r'\\b\\d+(\\.\\d+)?\\b')\n",
        "\n",
        "  for match in pattern.finditer(text):\n",
        "    number = match.group(0)\n",
        "\n",
        "    position = match.start()\n",
        "\n",
        "    print(f'The number \"{number}\" was found at position \"{position}\"')"
      ],
      "metadata": {
        "id": "SQOvYFXLgziy"
      },
      "execution_count": 34,
      "outputs": []
    },
    {
      "cell_type": "code",
      "source": [
        "text = \"these are some numbers from the decimals testing 01.12, 3.01, 27.25, 0.25\"\n",
        "find_numb_position(text)"
      ],
      "metadata": {
        "id": "geFPKgk4i8Sf"
      },
      "execution_count": 37,
      "outputs": []
    },
    {
      "cell_type": "markdown",
      "source": [
        "Question 22- Write a regular expression in python program to extract maximum/largest numeric value from a string."
      ],
      "metadata": {
        "id": "sjmtQ_zxjiiH"
      }
    },
    {
      "cell_type": "code",
      "source": [
        "def find_maximum(text):\n",
        "  pattern = re.compile(r'\\b\\d+(\\.\\d+)?\\b')\n",
        "  numbers = []\n",
        "\n",
        "  for match in pattern.finditer(text):\n",
        "    numbers.append(float(match.group()))\n",
        "\n",
        "  if not numbers:\n",
        "    return \"no numbers found\"\n",
        "\n",
        "  return max(numbers)\n",
        "\n",
        "\n",
        "text = 'My marks in each semester are: 947, 896, 926, 524, 734, 950, 642'\n",
        "max_number = find_maximum(text)\n",
        "print(f'The maximum mark is  {max_number}')\n",
        ""
      ],
      "metadata": {
        "colab": {
          "base_uri": "https://localhost:8080/"
        },
        "id": "TVAKZISFjp2c",
        "outputId": "20de02ab-e2e9-449e-af5b-8305283efe6c"
      },
      "execution_count": 46,
      "outputs": [
        {
          "output_type": "stream",
          "name": "stdout",
          "text": [
            "The maximum mark is  950.0\n"
          ]
        }
      ]
    },
    {
      "cell_type": "markdown",
      "source": [
        "Question 23- Create a function in python to insert spaces between words starting with capital letters."
      ],
      "metadata": {
        "id": "YoKsHTckoCjJ"
      }
    },
    {
      "cell_type": "code",
      "source": [
        "def insert_spaces(text):\n",
        "  pattern = r'(?<=\\w)([A-Z])'\n",
        "  spaced = re.sub(pattern, r' \\1', text)\n",
        "  return spaced\n",
        "\n",
        "text = 'RegularExpressionIsAnImportantTopicInPython'\n",
        "print(insert_spaces(text))\n"
      ],
      "metadata": {
        "colab": {
          "base_uri": "https://localhost:8080/"
        },
        "id": "A7omUEPuoGI-",
        "outputId": "00d60cb4-d270-435e-d9bd-5607bf54856b"
      },
      "execution_count": 50,
      "outputs": [
        {
          "output_type": "stream",
          "name": "stdout",
          "text": [
            "Regular Expression Is An Important Topic In Python\n"
          ]
        }
      ]
    },
    {
      "cell_type": "markdown",
      "source": [
        "Question 24- Python regex to find sequences of one upper case letter followed by lower case letters"
      ],
      "metadata": {
        "id": "V6o09pJVpq0Z"
      }
    },
    {
      "cell_type": "code",
      "source": [
        "def find_sequences(text):\n",
        "  pattern = re.compile(r'[A-Z][a-z]+')\n",
        "  sequence = pattern.findall(text)\n",
        "  return sequence"
      ],
      "metadata": {
        "id": "qbVY2TPZpiws"
      },
      "execution_count": 53,
      "outputs": []
    },
    {
      "cell_type": "code",
      "source": [
        "text = 'RegularExpressionIsAnImportantTopicInPython-'\n",
        "sequence = find_sequences(text)\n",
        "print(sequence)"
      ],
      "metadata": {
        "colab": {
          "base_uri": "https://localhost:8080/"
        },
        "id": "60ZNHmJTqUDF",
        "outputId": "26c9567c-772d-4b58-88b7-952f057a1fc9"
      },
      "execution_count": 54,
      "outputs": [
        {
          "output_type": "stream",
          "name": "stdout",
          "text": [
            "['Regular', 'Expression', 'Is', 'An', 'Important', 'Topic', 'In', 'Python']\n"
          ]
        }
      ]
    },
    {
      "cell_type": "markdown",
      "source": [
        "Question 25- Write a Python program to remove continuous duplicate words from Sentence using Regular Expression."
      ],
      "metadata": {
        "id": "91gCp6BdqoHx"
      }
    },
    {
      "cell_type": "code",
      "source": [
        "import re\n",
        "def remove_duplicates(sentence):\n",
        "  pattern = r'\\b(\\w+)\\b\\s+\\b\\1\\b'\n",
        "  seq = re.sub(pattern, r'\\1',sentence)#, flags = re.IGNORECASE)\n",
        "  return seq\n"
      ],
      "metadata": {
        "id": "2UhzUpHdqhPm"
      },
      "execution_count": 61,
      "outputs": []
    },
    {
      "cell_type": "code",
      "source": [
        "sentence = \"Hello hello world world\"\n",
        "new_sentence = remove_duplicates(sentence)\n",
        "print(new_sentence)"
      ],
      "metadata": {
        "colab": {
          "base_uri": "https://localhost:8080/"
        },
        "id": "SfpbIR6grcQj",
        "outputId": "3d31ecdb-8b04-4ee1-850c-8c0a1b66c144"
      },
      "execution_count": 62,
      "outputs": [
        {
          "output_type": "stream",
          "name": "stdout",
          "text": [
            "Hello hello world\n"
          ]
        }
      ]
    },
    {
      "cell_type": "markdown",
      "source": [
        "Question 26-  Write a python program using RegEx to accept string ending with alphanumeric character."
      ],
      "metadata": {
        "id": "lN3jJGHTv99b"
      }
    },
    {
      "cell_type": "code",
      "source": [
        "string = input('enter a string: ')\n",
        "pattern = r'.*[A-Za-z0-9]$'\n",
        "if re.fullmatch(pattern, string):\n",
        "  print('string accepted')\n",
        "\n",
        "else:\n",
        "  print('string does not end with alphanumeric charater')"
      ],
      "metadata": {
        "colab": {
          "base_uri": "https://localhost:8080/"
        },
        "id": "Od2LFq0QrssW",
        "outputId": "4855c4aa-8016-4cf9-b22c-7cf6b60fc22f"
      },
      "execution_count": 66,
      "outputs": [
        {
          "output_type": "stream",
          "name": "stdout",
          "text": [
            "enter a string: hdiei3\n",
            "string accepted\n"
          ]
        }
      ]
    },
    {
      "cell_type": "markdown",
      "source": [
        "Question 27-Write a python program using RegEx to extract the hashtags."
      ],
      "metadata": {
        "id": "tcnKMO7QxnQA"
      }
    },
    {
      "cell_type": "code",
      "source": [
        "def extract_hashtags(text):\n",
        "  pattern = r'#\\w+'\n",
        "  return re.findall(pattern,text)"
      ],
      "metadata": {
        "id": "-fj8Fd0vwWnc"
      },
      "execution_count": 67,
      "outputs": []
    },
    {
      "cell_type": "code",
      "source": [
        "text = \"\"\"RT @kapil_kausik: #Doltiwal I mean #xyzabc is \"hurt\" by #Demonetization as the same has rendered USELESS\n",
        "\\<ed><U+00A0><U+00BD><ed><U+00B1><U+0089> \"acquired funds\" No wo\"\"\"\n",
        "\n",
        "print(extract_hashtags(text))"
      ],
      "metadata": {
        "colab": {
          "base_uri": "https://localhost:8080/"
        },
        "id": "oArvMPfKycvN",
        "outputId": "bb62835f-f80a-49a2-d104-27bfe5127b98"
      },
      "execution_count": 70,
      "outputs": [
        {
          "output_type": "stream",
          "name": "stdout",
          "text": [
            "['#Doltiwal', '#xyzabc', '#Demonetization']\n"
          ]
        }
      ]
    },
    {
      "cell_type": "markdown",
      "source": [
        "Question 28- Write a python program using RegEx to remove <U+..> like symbols"
      ],
      "metadata": {
        "id": "mQHKWbg2ywO0"
      }
    },
    {
      "cell_type": "code",
      "source": [
        "def remove_unicode_symbol(text):\n",
        "  pattern = r'<U\\+[0-9A-Fa-f]+>'\n",
        "  return re.sub(pattern,' ', text)"
      ],
      "metadata": {
        "id": "1fsBtXWVymB1"
      },
      "execution_count": 71,
      "outputs": []
    },
    {
      "cell_type": "code",
      "source": [
        "text = \"@Jags123456 Bharat band on 28??<ed><U+00A0><U+00BD><ed><U+00B8><U+0082>Those who  are protesting #demonetization  are all different party leaders\"\n",
        "print(f' This is the cleaned text: {remove_unicode_symbol(text)}')"
      ],
      "metadata": {
        "colab": {
          "base_uri": "https://localhost:8080/"
        },
        "id": "kOi9efMl02QA",
        "outputId": "19931e2a-d0e5-4b43-ccfb-202398cdb789"
      },
      "execution_count": 74,
      "outputs": [
        {
          "output_type": "stream",
          "name": "stdout",
          "text": [
            " This is the cleaned text: @Jags123456 Bharat band on 28??<ed>  <ed>  Those who  are protesting #demonetization  are all different party leaders\n"
          ]
        }
      ]
    },
    {
      "cell_type": "markdown",
      "source": [
        "Question 29- Write a python program to extract dates from the text stored in the text file."
      ],
      "metadata": {
        "id": "xXUr_WJe1Rp9"
      }
    },
    {
      "cell_type": "code",
      "source": [
        "def extract_date(filename):\n",
        "  pattern = r'\\b\\d{4}-\\d{2}-\\d{2}\\b|\\b\\d{2}/\\d{2}/\\d{4}\\b'\n",
        "\n",
        "  with open(filename, 'r') as file:\n",
        "    content = file.read()\n",
        "\n",
        "  dates = re.findall(pattern,content)\n",
        "  return dates\n",
        "\n",
        ""
      ],
      "metadata": {
        "id": "Y1TR6AgE1BZB"
      },
      "execution_count": 75,
      "outputs": []
    },
    {
      "cell_type": "code",
      "source": [
        "filename = '/content/extractdate.txt'\n",
        "extracted_date = extract_date(filename)\n",
        "print(extracted_date)"
      ],
      "metadata": {
        "id": "fWaQ3l822U7c"
      },
      "execution_count": 77,
      "outputs": []
    },
    {
      "cell_type": "markdown",
      "source": [
        "Question 30- Create a function in python to remove all words from a string of length between 2 and 4."
      ],
      "metadata": {
        "id": "FnhH-F4q3BrX"
      }
    },
    {
      "cell_type": "code",
      "source": [
        "def remove_word_length(text):\n",
        "  pattern = r'\\b\\w{2,4}\\b'\n",
        "  cleaned_text = re.sub(pattern, '', text)\n",
        "\n",
        "  return cleaned_text\n",
        "\n"
      ],
      "metadata": {
        "id": "EoyhkT1725-7"
      },
      "execution_count": 78,
      "outputs": []
    },
    {
      "cell_type": "code",
      "source": [
        "text ='''The following example creates an ArrayList with a capacity of 50 elements. 4 elements are then added to the ArrayList\n",
        "\\and the ArrayList is trimmed accordingly'''\n",
        "print(remove_word_length(text))"
      ],
      "metadata": {
        "colab": {
          "base_uri": "https://localhost:8080/"
        },
        "id": "itlVL1Pj6qNw",
        "outputId": "eb9034f9-384a-4f57-95db-cd67e6792f3e"
      },
      "execution_count": 80,
      "outputs": [
        {
          "output_type": "stream",
          "name": "stdout",
          "text": [
            " following example creates  ArrayList  a capacity   elements. 4 elements   added   ArrayList\n",
            "\u0007  ArrayList  trimmed accordingly\n"
          ]
        }
      ]
    },
    {
      "cell_type": "code",
      "source": [],
      "metadata": {
        "id": "ksv5VQ3j7XVl"
      },
      "execution_count": null,
      "outputs": []
    }
  ]
}